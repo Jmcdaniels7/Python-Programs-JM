{
 "cells": [
  {
   "cell_type": "code",
   "execution_count": 15,
   "id": "7011c58d-88fa-4656-94c2-f57ee51c875b",
   "metadata": {},
   "outputs": [
    {
     "name": "stdout",
     "output_type": "stream",
     "text": [
      "3600\n",
      "86400\n",
      "24.0\n",
      "24\n"
     ]
    },
    {
     "name": "stdin",
     "output_type": "stream",
     "text": [
      "Did this number agree with the floating-point value from the previous question, aside from the final .0? Yes\n"
     ]
    },
    {
     "name": "stdout",
     "output_type": "stream",
     "text": [
      "Yes\n"
     ]
    }
   ],
   "source": [
    "minutes = 60\n",
    "seconds = 60\n",
    "\n",
    "seconds_per_hour = minutes * seconds\n",
    "seconds_per_day = seconds_per_hour * 24\n",
    "hours_per_day1 = seconds_per_day / seconds_per_hour\n",
    "hours_per_day2 = seconds_per_day // seconds_per_hour\n",
    "\n",
    "\n",
    "print(seconds_per_hour)\n",
    "print(seconds_per_day)\n",
    "print(hours_per_day1)\n",
    "print(hours_per_day2)\n",
    "\n",
    "answer = input(\"Did this number agree with the floating-point value from the previous question, aside from the final .0?\")\n",
    "print(answer)"
   ]
  },
  {
   "cell_type": "code",
   "execution_count": null,
   "id": "6517ef77-f9a6-46f0-8924-337da572e85c",
   "metadata": {},
   "outputs": [],
   "source": []
  }
 ],
 "metadata": {
  "kernelspec": {
   "display_name": "Python 3 (ipykernel)",
   "language": "python",
   "name": "python3"
  },
  "language_info": {
   "codemirror_mode": {
    "name": "ipython",
    "version": 3
   },
   "file_extension": ".py",
   "mimetype": "text/x-python",
   "name": "python",
   "nbconvert_exporter": "python",
   "pygments_lexer": "ipython3",
   "version": "3.12.4"
  }
 },
 "nbformat": 4,
 "nbformat_minor": 5
}
