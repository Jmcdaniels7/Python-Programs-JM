{
 "cells": [
  {
   "cell_type": "code",
   "execution_count": 3,
   "id": "c0d6023c-be35-4bc5-a778-524ca2ce25e4",
   "metadata": {},
   "outputs": [
    {
     "name": "stdout",
     "output_type": "stream",
     "text": [
      "[0, 0, 1, 2, 2]\n"
     ]
    }
   ],
   "source": [
    "class Solution:\n",
    "    def sort012(self, numbers):\n",
    "        numbers.sort()\n",
    "        print(numbers)\n",
    "\n",
    "numbers = [0,2,1,2,0]\n",
    "\n",
    "p = Solution()\n",
    "p.sort012(numbers)"
   ]
  },
  {
   "cell_type": "code",
   "execution_count": 15,
   "id": "69ad12f7-7957-48ef-8fc2-61295a2db4ca",
   "metadata": {},
   "outputs": [
    {
     "name": "stdout",
     "output_type": "stream",
     "text": [
      "Element is present at index  3\n"
     ]
    }
   ],
   "source": [
    "\n",
    "    \n",
    "def binarySearch(arr, l, r, x):\n",
    "    \n",
    "    while l <= r:\n",
    "    \n",
    "        mid = l + (r-l) // 2\n",
    "        \n",
    "        if arr[mid] == x:\n",
    "            return mid\n",
    "        \n",
    "        elif arr[mid] < x:\n",
    "            l = mid + 1\n",
    "            \n",
    "        else:\n",
    "            r = mid -1\n",
    "            \n",
    "    return -1\n",
    "            \n",
    "\n",
    "arr = [2,3,4,10,40]\n",
    "x = 10\n",
    "\n",
    "result = binarySearch(arr, 0, len(arr)-1, x)\n",
    "\n",
    "if result != -1:\n",
    "    print(\"Element is present at index % d\" % result)\n",
    "else:\n",
    "    print(\"Element is not present in array\")"
   ]
  },
  {
   "cell_type": "code",
   "execution_count": null,
   "id": "357c35db-fd04-4b93-a6bf-3e02a0b724a7",
   "metadata": {},
   "outputs": [],
   "source": []
  }
 ],
 "metadata": {
  "kernelspec": {
   "display_name": "Python 3 (ipykernel)",
   "language": "python",
   "name": "python3"
  },
  "language_info": {
   "codemirror_mode": {
    "name": "ipython",
    "version": 3
   },
   "file_extension": ".py",
   "mimetype": "text/x-python",
   "name": "python",
   "nbconvert_exporter": "python",
   "pygments_lexer": "ipython3",
   "version": "3.12.4"
  }
 },
 "nbformat": 4,
 "nbformat_minor": 5
}
