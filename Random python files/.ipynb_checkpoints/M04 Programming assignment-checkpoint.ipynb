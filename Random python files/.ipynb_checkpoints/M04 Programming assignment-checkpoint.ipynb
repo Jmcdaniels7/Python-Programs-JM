{
 "cells": [
  {
   "cell_type": "code",
   "execution_count": 4,
   "id": "6351b2eb-feec-4fa3-914a-b283d36226c2",
   "metadata": {},
   "outputs": [
    {
     "data": {
      "text/plain": [
       "'Open 9-5 daily'"
      ]
     },
     "execution_count": 4,
     "metadata": {},
     "output_type": "execute_result"
    }
   ],
   "source": [
    "def hours():\n",
    "    zoo = ('Open 9-5 daily')\n",
    "    return zoo\n",
    "hours()"
   ]
  },
  {
   "cell_type": "code",
   "execution_count": 12,
   "id": "b70cfd0b-71e5-463c-8d1c-949a183cb237",
   "metadata": {},
   "outputs": [],
   "source": [
    "import zoo"
   ]
  },
  {
   "cell_type": "code",
   "execution_count": 16,
   "id": "9b59f074-9611-48df-9628-bf2f8eb56803",
   "metadata": {},
   "outputs": [
    {
     "name": "stdout",
     "output_type": "stream",
     "text": [
      "Open daily 9-5\n"
     ]
    }
   ],
   "source": [
    "result = zoo.hours()\n",
    "print(result)"
   ]
  },
  {
   "cell_type": "code",
   "execution_count": 4,
   "id": "a8b2dba3-1d9f-4a22-83fe-ead2551bc11e",
   "metadata": {},
   "outputs": [
    {
     "name": "stdout",
     "output_type": "stream",
     "text": [
      "Open daily 9-5\n"
     ]
    }
   ],
   "source": [
    "import zoo as menagerie\n",
    "result = menagerie.hours()\n",
    "\n",
    "print(result)"
   ]
  },
  {
   "cell_type": "code",
   "execution_count": null,
   "id": "ccbda978-eb6d-4467-ad9f-8559fd7e8426",
   "metadata": {},
   "outputs": [],
   "source": [
    "conn = sqlite3.connect('books.db')\n",
    "curs = conn.cursor()\n",
    "\n",
    "curs.execute('''CREATE TABLE books (title TEXT PRIMARY KEY, author TEXT, year INT)''')"
   ]
  },
  {
   "cell_type": "code",
   "execution_count": 45,
   "id": "c19d778a-8ad3-48b3-97d4-0153223e01ba",
   "metadata": {},
   "outputs": [
    {
     "name": "stdout",
     "output_type": "stream",
     "text": [
      "[{'title': 'The Weirdstone of Brisingamen', 'author': 'Alan Garner', 'year': '1960'}, {'title': 'Perdido Street Station', 'author': 'China Miéville', 'year': '2000'}, {'title': 'Thud!', 'author': 'Terry Pratchett', 'year': '2005'}, {'title': 'The Spellman Files', 'author': 'Lisa Lutz', 'year': '2007'}, {'title': 'Small Gods', 'author': 'Terry Pratchett', 'year': '1992'}]\n"
     ]
    },
    {
     "ename": "AttributeError",
     "evalue": "'Engine' object has no attribute 'cursor'",
     "output_type": "error",
     "traceback": [
      "\u001b[1;31m---------------------------------------------------------------------------\u001b[0m",
      "\u001b[1;31mAttributeError\u001b[0m                            Traceback (most recent call last)",
      "Cell \u001b[1;32mIn[45], line 23\u001b[0m\n\u001b[0;32m     20\u001b[0m \u001b[38;5;28mprint\u001b[39m(books)\n\u001b[0;32m     22\u001b[0m conn \u001b[38;5;241m=\u001b[39m sa\u001b[38;5;241m.\u001b[39mcreate_engine(\u001b[38;5;124m'\u001b[39m\u001b[38;5;124msqlite:///books.db\u001b[39m\u001b[38;5;124m'\u001b[39m)\n\u001b[1;32m---> 23\u001b[0m curs \u001b[38;5;241m=\u001b[39m conn\u001b[38;5;241m.\u001b[39mcursor()\n\u001b[0;32m     25\u001b[0m \u001b[38;5;28;01mwith\u001b[39;00m \u001b[38;5;28mopen\u001b[39m(\u001b[38;5;124m\"\u001b[39m\u001b[38;5;124mbooks2.csv\u001b[39m\u001b[38;5;124m\"\u001b[39m, \u001b[38;5;124m\"\u001b[39m\u001b[38;5;124mr\u001b[39m\u001b[38;5;124m\"\u001b[39m) \u001b[38;5;28;01mas\u001b[39;00m file:\n\u001b[0;32m     26\u001b[0m     no_records \u001b[38;5;241m=\u001b[39m \u001b[38;5;241m0\u001b[39m\n",
      "\u001b[1;31mAttributeError\u001b[0m: 'Engine' object has no attribute 'cursor'"
     ]
    }
   ],
   "source": [
    "import csv, sqlite3\n",
    "import sqlalchemy as sa\n",
    "from sqlalchemy.ext.declarative import declarative_base\n",
    "\n",
    "books2 = [ {\"title\": \"The Weirdstone of Brisingamen\", \"author\": \"Alan Garner\", \"year\": \"1960\"},\n",
    "{\"title\": \"Perdido Street Station\", \"author\" : \"China Miéville\",\"year\" : \"2000\"},\n",
    "{\"title\": \"Thud!\", \"author\": \"Terry Pratchett\", \"year\": \"2005\"},\n",
    "{\"title\": \"The Spellman Files\", \"author\": \"Lisa Lutz\", \"year\": \"2007\"},\n",
    "{\"title\": \"Small Gods\", \"author\": \"Terry Pratchett\", \"year\": \"1992\"},]\n",
    "\n",
    "with open('books2.csv', 'wt') as fout:\n",
    "    cout = csv.DictWriter(fout, ['title', 'author', 'year'])\n",
    "    cout.writeheader()\n",
    "    cout.writerows(books2)\n",
    "    \n",
    "with open('books2.csv', 'rt') as fin:\n",
    "    cin = csv.DictReader(fin)\n",
    "    books = [row for row in cin]\n",
    "    \n",
    "print(books)\n",
    "    \n",
    "conn = sa.create_engine('sqlite:///books.db')\n",
    "curs = conn.cursor()\n",
    "\n",
    "with open(\"books2.csv\", \"r\") as file:\n",
    "    no_records = 0\n",
    "    for row in file:\n",
    "        curs.execute(\"INSERT INTO books VALUES (?,?,?)\", row.split(\",\"))\n",
    "        conn.commit()\n",
    "        no_records += 1\n",
    "conn.close()\n",
    "\n",
    "for row in books:\n",
    "    print(row)\n",
    "\n",
    "\n"
   ]
  },
  {
   "cell_type": "code",
   "execution_count": null,
   "id": "b1261e96-8772-40cc-899d-a669ada1ebb5",
   "metadata": {},
   "outputs": [],
   "source": []
  }
 ],
 "metadata": {
  "kernelspec": {
   "display_name": "Python 3 (ipykernel)",
   "language": "python",
   "name": "python3"
  },
  "language_info": {
   "codemirror_mode": {
    "name": "ipython",
    "version": 3
   },
   "file_extension": ".py",
   "mimetype": "text/x-python",
   "name": "python",
   "nbconvert_exporter": "python",
   "pygments_lexer": "ipython3",
   "version": "3.12.4"
  }
 },
 "nbformat": 4,
 "nbformat_minor": 5
}
