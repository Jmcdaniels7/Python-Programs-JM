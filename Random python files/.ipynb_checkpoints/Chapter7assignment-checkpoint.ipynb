{
 "cells": [
  {
   "cell_type": "code",
   "execution_count": 37,
   "id": "35e958f7-457a-4313-82e7-1b5721a3dd8c",
   "metadata": {},
   "outputs": [
    {
     "name": "stdout",
     "output_type": "stream",
     "text": [
      "['mozzarella', 'Cinderella', 'salmonella']\n"
     ]
    },
    {
     "name": "stdin",
     "output_type": "stream",
     "text": [
      "Did Capitalizing the element referring to a person change the element in the list? yes\n"
     ]
    }
   ],
   "source": [
    "things = ['mozzarella', 'cinderella', 'salmonella']\n",
    "\n",
    "\n",
    "things[1] = things[1].capitalize()\n",
    "\n",
    "print(things)\n",
    "\n",
    "question1 = input(\"Did Capitalizing the element referring to a person change the element in the list?\")\n",
    "\n"
   ]
  },
  {
   "cell_type": "code",
   "execution_count": 41,
   "id": "51d8e768-43a8-42a3-9e78-cb4d289803a8",
   "metadata": {},
   "outputs": [
    {
     "name": "stdout",
     "output_type": "stream",
     "text": [
      "['MOZZARELLA', 'cinderella', 'salmonella']\n"
     ]
    }
   ],
   "source": [
    "things = ['mozzarella', 'cinderella', 'salmonella']\n",
    "\n",
    "things[0] = things[0].upper()\n",
    "\n",
    "print(things)\n",
    "\n",
    "\n"
   ]
  },
  {
   "cell_type": "code",
   "execution_count": 15,
   "id": "b06137b3-d821-4d10-8b1d-efe459d49b70",
   "metadata": {},
   "outputs": [
    {
     "name": "stdout",
     "output_type": "stream",
     "text": [
      "['MOZZARELLA', 'Cinderella']\n"
     ]
    }
   ],
   "source": [
    "things = ['mozzarella', 'cinderella', 'salmonella']\n",
    "\n",
    "things.remove('salmonella')\n",
    "\n",
    "print(things)\n",
    "\n",
    "\n"
   ]
  },
  {
   "cell_type": "code",
   "execution_count": 49,
   "id": "0075c5a8-8171-4f9c-8047-02a9dd61de21",
   "metadata": {},
   "outputs": [
    {
     "data": {
      "text/plain": [
       "['Harry', 'Ron', 'Hermoine']"
      ]
     },
     "execution_count": 49,
     "metadata": {},
     "output_type": "execute_result"
    }
   ],
   "source": [
    "def good():\n",
    "    chamber = ['Harry', 'Ron', 'Hermoine']\n",
    "    \n",
    "    return chamber\n",
    "    \n",
    "good()"
   ]
  },
  {
   "cell_type": "code",
   "execution_count": 88,
   "id": "cc8c6e9d-5749-4506-86da-bef0e02aa202",
   "metadata": {},
   "outputs": [
    {
     "name": "stdout",
     "output_type": "stream",
     "text": [
      "[9, 7, 5, 3, 1]\n"
     ]
    },
    {
     "data": {
      "text/plain": [
       "5"
      ]
     },
     "execution_count": 88,
     "metadata": {},
     "output_type": "execute_result"
    }
   ],
   "source": [
    "def get_odds():\n",
    "    empty = []\n",
    "    for x in range(10):\n",
    "        if x % 2 != 0:\n",
    "            number = 0\n",
    "            empty.insert(number, x)\n",
    "            number += 1\n",
    "    print(empty)\n",
    "    return empty[2]\n",
    "            \n",
    "get_odds()\n",
    "\n",
    "\n"
   ]
  },
  {
   "cell_type": "code",
   "execution_count": 94,
   "id": "1aa61298-92b9-4682-871d-bb45bd38ba29",
   "metadata": {},
   "outputs": [
    {
     "name": "stdout",
     "output_type": "stream",
     "text": [
      "1\n",
      "3\n",
      "5\n",
      "7\n",
      "9\n",
      "Super weird how the condition finds 1 first but then the empty list is filled from the 9 to 1 in the code above, even though I said to insert the first number found at the 0 index.\n"
     ]
    }
   ],
   "source": [
    "def get_odds():\n",
    "    empty = []\n",
    "    for x in range(10):\n",
    "        if x % 2 != 0:\n",
    "            print(x)\n",
    "            \n",
    "get_odds()\n",
    "\n",
    "print(\"Super weird how the condition finds 1 first but then the empty list is filled from the 9 to 1 in the code above, even though I said to insert the first number found at the 0 index.\")\n",
    "\n",
    "\n"
   ]
  },
  {
   "cell_type": "code",
   "execution_count": null,
   "id": "ecf78055-26fa-41ea-9b9f-821ad77bcd43",
   "metadata": {},
   "outputs": [],
   "source": []
  }
 ],
 "metadata": {
  "kernelspec": {
   "display_name": "Python 3 (ipykernel)",
   "language": "python",
   "name": "python3"
  },
  "language_info": {
   "codemirror_mode": {
    "name": "ipython",
    "version": 3
   },
   "file_extension": ".py",
   "mimetype": "text/x-python",
   "name": "python",
   "nbconvert_exporter": "python",
   "pygments_lexer": "ipython3",
   "version": "3.12.4"
  }
 },
 "nbformat": 4,
 "nbformat_minor": 5
}
